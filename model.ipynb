{
 "cells": [
  {
   "cell_type": "code",
   "execution_count": 1,
   "metadata": {
    "collapsed": false
   },
   "outputs": [
    {
     "name": "stderr",
     "output_type": "stream",
     "text": [
      "/anaconda/lib/python3.6/site-packages/sklearn/cross_validation.py:44: DeprecationWarning: This module was deprecated in version 0.18 in favor of the model_selection module into which all the refactored classes and functions are moved. Also note that the interface of the new CV iterators are different from that of this module. This module will be removed in 0.20.\n",
      "  \"This module will be removed in 0.20.\", DeprecationWarning)\n"
     ]
    }
   ],
   "source": [
    "import numpy as np\n",
    "import os\n",
    "import pandas as pd\n",
    "import sys\n",
    "import matplotlib.pyplot as plt\n",
    "%matplotlib inline\n",
    "from sklearn.model_selection import train_test_split\n",
    "from sklearn.naive_bayes import MultinomialNB\n",
    "from sklearn.svm import LinearSVR\n",
    "from sklearn.ensemble import RandomForestRegressor, GradientBoostingRegressor,VotingClassifier\n",
    "from sklearn.linear_model import SGDRegressor, LinearRegression, BayesianRidge, Lasso, HuberRegressor, ElasticNetCV\n",
    "from sklearn.linear_model import Ridge, RidgeCV, ElasticNet, LassoCV, LassoLarsCV\n",
    "from sklearn.preprocessing import StandardScaler\n",
    "from sklearn.tree import DecisionTreeRegressor\n",
    "import seaborn as sns\n",
    "sns.set(color_codes=True)\n",
    "from scipy import stats\n",
    "from scipy.stats import norm, skew #for some statistics\n",
    "import xgboost as xgb\n",
    "import lightgbm as lgb\n",
    "np.random.seed(25)"
   ]
  },
  {
   "cell_type": "code",
   "execution_count": 2,
   "metadata": {
    "collapsed": true
   },
   "outputs": [],
   "source": [
    "train = pd.read_csv('train.csv')\n",
    "test = pd.read_csv('test.csv')"
   ]
  },
  {
   "cell_type": "code",
   "execution_count": 3,
   "metadata": {
    "collapsed": false
   },
   "outputs": [
    {
     "data": {
      "text/html": [
       "<div>\n",
       "<style scoped>\n",
       "    .dataframe tbody tr th:only-of-type {\n",
       "        vertical-align: middle;\n",
       "    }\n",
       "\n",
       "    .dataframe tbody tr th {\n",
       "        vertical-align: top;\n",
       "    }\n",
       "\n",
       "    .dataframe thead th {\n",
       "        text-align: right;\n",
       "    }\n",
       "</style>\n",
       "<table border=\"1\" class=\"dataframe\">\n",
       "  <thead>\n",
       "    <tr style=\"text-align: right;\">\n",
       "      <th></th>\n",
       "      <th>ID</th>\n",
       "      <th>datetime</th>\n",
       "      <th>temperature</th>\n",
       "      <th>var1</th>\n",
       "      <th>pressure</th>\n",
       "      <th>windspeed</th>\n",
       "      <th>var2</th>\n",
       "      <th>electricity_consumption</th>\n",
       "    </tr>\n",
       "  </thead>\n",
       "  <tbody>\n",
       "    <tr>\n",
       "      <th>0</th>\n",
       "      <td>0</td>\n",
       "      <td>2013-07-01 00:00:00</td>\n",
       "      <td>-11.4</td>\n",
       "      <td>-17.1</td>\n",
       "      <td>1003.0</td>\n",
       "      <td>571.910</td>\n",
       "      <td>A</td>\n",
       "      <td>216.0</td>\n",
       "    </tr>\n",
       "    <tr>\n",
       "      <th>1</th>\n",
       "      <td>1</td>\n",
       "      <td>2013-07-01 01:00:00</td>\n",
       "      <td>-12.1</td>\n",
       "      <td>-19.3</td>\n",
       "      <td>996.0</td>\n",
       "      <td>575.040</td>\n",
       "      <td>A</td>\n",
       "      <td>210.0</td>\n",
       "    </tr>\n",
       "    <tr>\n",
       "      <th>2</th>\n",
       "      <td>2</td>\n",
       "      <td>2013-07-01 02:00:00</td>\n",
       "      <td>-12.9</td>\n",
       "      <td>-20.0</td>\n",
       "      <td>1000.0</td>\n",
       "      <td>578.435</td>\n",
       "      <td>A</td>\n",
       "      <td>225.0</td>\n",
       "    </tr>\n",
       "    <tr>\n",
       "      <th>3</th>\n",
       "      <td>3</td>\n",
       "      <td>2013-07-01 03:00:00</td>\n",
       "      <td>-11.4</td>\n",
       "      <td>-17.1</td>\n",
       "      <td>995.0</td>\n",
       "      <td>582.580</td>\n",
       "      <td>A</td>\n",
       "      <td>216.0</td>\n",
       "    </tr>\n",
       "    <tr>\n",
       "      <th>4</th>\n",
       "      <td>4</td>\n",
       "      <td>2013-07-01 04:00:00</td>\n",
       "      <td>-11.4</td>\n",
       "      <td>-19.3</td>\n",
       "      <td>1005.0</td>\n",
       "      <td>586.600</td>\n",
       "      <td>A</td>\n",
       "      <td>222.0</td>\n",
       "    </tr>\n",
       "  </tbody>\n",
       "</table>\n",
       "</div>"
      ],
      "text/plain": [
       "   ID             datetime  temperature  var1  pressure  windspeed var2  \\\n",
       "0   0  2013-07-01 00:00:00        -11.4 -17.1    1003.0    571.910    A   \n",
       "1   1  2013-07-01 01:00:00        -12.1 -19.3     996.0    575.040    A   \n",
       "2   2  2013-07-01 02:00:00        -12.9 -20.0    1000.0    578.435    A   \n",
       "3   3  2013-07-01 03:00:00        -11.4 -17.1     995.0    582.580    A   \n",
       "4   4  2013-07-01 04:00:00        -11.4 -19.3    1005.0    586.600    A   \n",
       "\n",
       "   electricity_consumption  \n",
       "0                    216.0  \n",
       "1                    210.0  \n",
       "2                    225.0  \n",
       "3                    216.0  \n",
       "4                    222.0  "
      ]
     },
     "execution_count": 3,
     "metadata": {},
     "output_type": "execute_result"
    }
   ],
   "source": [
    "train.head()"
   ]
  },
  {
   "cell_type": "code",
   "execution_count": 4,
   "metadata": {
    "collapsed": false
   },
   "outputs": [
    {
     "data": {
      "text/plain": [
       "A    25239\n",
       "C     1040\n",
       "B      217\n",
       "Name: var2, dtype: int64"
      ]
     },
     "execution_count": 4,
     "metadata": {},
     "output_type": "execute_result"
    }
   ],
   "source": [
    "train['var2'].value_counts()"
   ]
  },
  {
   "cell_type": "code",
   "execution_count": 5,
   "metadata": {
    "collapsed": false
   },
   "outputs": [
    {
     "data": {
      "text/plain": [
       "ID                           int64\n",
       "datetime                    object\n",
       "temperature                float64\n",
       "var1                       float64\n",
       "pressure                   float64\n",
       "windspeed                  float64\n",
       "var2                        object\n",
       "electricity_consumption    float64\n",
       "dtype: object"
      ]
     },
     "execution_count": 5,
     "metadata": {},
     "output_type": "execute_result"
    }
   ],
   "source": [
    "train.dtypes"
   ]
  },
  {
   "cell_type": "code",
   "execution_count": 6,
   "metadata": {
    "collapsed": false
   },
   "outputs": [
    {
     "data": {
      "text/plain": [
       "ID                         0\n",
       "datetime                   0\n",
       "temperature                0\n",
       "var1                       0\n",
       "pressure                   0\n",
       "windspeed                  0\n",
       "var2                       0\n",
       "electricity_consumption    0\n",
       "dtype: int64"
      ]
     },
     "execution_count": 6,
     "metadata": {},
     "output_type": "execute_result"
    }
   ],
   "source": [
    "train.isnull().sum(axis=0)"
   ]
  },
  {
   "cell_type": "code",
   "execution_count": 7,
   "metadata": {
    "collapsed": true
   },
   "outputs": [],
   "source": [
    "train = train.fillna({\"temperature\": train[\"temperature\"].mean(), \"pressure\": train[\"pressure\"].mean(),\n",
    "                     \"windspeed\": train[\"windspeed\"].mean(), \"var1\": train[\"var1\"].mean()})\n",
    "test = test.fillna({\"temperature\": test[\"temperature\"].mean(), \"pressure\": train[\"pressure\"].mean(),\n",
    "                     \"windspeed\": test[\"windspeed\"].mean(), \"var1\": test[\"var1\"].mean()})"
   ]
  },
  {
   "cell_type": "markdown",
   "metadata": {},
   "source": [
    "# Feature Engineering"
   ]
  },
  {
   "cell_type": "code",
   "execution_count": 8,
   "metadata": {
    "collapsed": true
   },
   "outputs": [],
   "source": [
    "def get_month(x):\n",
    "    txt = str(x)\n",
    "    date = txt.split(' ')\n",
    "    y = date[0].split('-')\n",
    "    if len(y) != 3:\n",
    "        return 'None'\n",
    "    return int(y[1])\n",
    "\n",
    "def get_year(x):\n",
    "    txt = str(x)\n",
    "    date = txt.split(' ')\n",
    "    y = date[0].split('-')\n",
    "    if len(y) != 3:\n",
    "        return 'None'\n",
    "    return int(y[0])\n",
    "\n",
    "def get_time(x):\n",
    "    txt = str(x)\n",
    "    date = txt.split(' ')\n",
    "    y = date[1].split(':')\n",
    "    if len(y) != 3:\n",
    "        return 'None'\n",
    "    return int(y[0])"
   ]
  },
  {
   "cell_type": "code",
   "execution_count": 9,
   "metadata": {
    "collapsed": false
   },
   "outputs": [],
   "source": [
    "train['MONTH'] = train['datetime'].map(lambda x: get_month(x))\n",
    "train['YEAR'] = train['datetime'].map(lambda x: get_year(x))\n",
    "train['HOUR'] = train['datetime'].map(lambda x: get_time(x))\n",
    "\n",
    "test['MONTH'] = test['datetime'].map(lambda x: get_month(x))\n",
    "test['YEAR'] = test['datetime'].map(lambda x: get_year(x))\n",
    "test['HOUR'] = test['datetime'].map(lambda x: get_time(x))"
   ]
  },
  {
   "cell_type": "code",
   "execution_count": 18,
   "metadata": {
    "collapsed": false
   },
   "outputs": [
    {
     "data": {
      "image/png": "[encoded data removed]",
      "text/plain": [
       "<matplotlib.figure.Figure at 0x116abd5f8>"
      ]
     },
     "metadata": {},
     "output_type": "display_data"
    }
   ],
   "source": [
    "sns.distplot(train['electricity_consumption'] , kde=False);"
   ]
  },
  {
   "cell_type": "code",
   "execution_count": 17,
   "metadata": {
    "collapsed": false
   },
   "outputs": [
    {
     "data": {
      "image/png": "[encoded data removed]",
      "text/plain": [
       "<matplotlib.figure.Figure at 0x10a399d30>"
      ]
     },
     "metadata": {},
     "output_type": "display_data"
    }
   ],
   "source": [
    "var = 'electricity_consumption'\n",
    "data = pd.concat([train['temperature'], train[var]], axis=1)\n",
    "data.plot.scatter(x=var, y='temperature');        # ylim=(0,2500)"
   ]
  },
  {
   "cell_type": "code",
   "execution_count": 12,
   "metadata": {
    "collapsed": false
   },
   "outputs": [
    {
     "data": {
      "text/plain": [
       "(26480, 11)"
      ]
     },
     "execution_count": 12,
     "metadata": {},
     "output_type": "execute_result"
    }
   ],
   "source": [
    "# Remove Outlier\n",
    "train = train[train['electricity_consumption'] < 1000]\n",
    "train.shape"
   ]
  },
  {
   "cell_type": "code",
   "execution_count": 13,
   "metadata": {
    "collapsed": false
   },
   "outputs": [
    {
     "data": {
      "image/png": "[encoded data removed]",
      "text/plain": [
       "<matplotlib.figure.Figure at 0x116aa7c18>"
      ]
     },
     "metadata": {},
     "output_type": "display_data"
    }
   ],
   "source": [
    "#correlation matrix\n",
    "corrmat = train.corr()\n",
    "f, ax = plt.subplots(figsize=(5, 5))\n",
    "sns.heatmap(corrmat, vmax=.8, square=True);"
   ]
  },
  {
   "cell_type": "code",
   "execution_count": 14,
   "metadata": {
    "collapsed": true
   },
   "outputs": [],
   "source": [
    "feature_names = [x for x in train.columns if x not in ['ID','electricity_consumption','datetime']]\n",
    "target = train['electricity_consumption']"
   ]
  },
  {
   "cell_type": "code",
   "execution_count": 15,
   "metadata": {
    "collapsed": false
   },
   "outputs": [
    {
     "data": {
      "text/plain": [
       "temperature    float64\n",
       "var1           float64\n",
       "pressure       float64\n",
       "windspeed      float64\n",
       "var2            object\n",
       "MONTH            int64\n",
       "YEAR             int64\n",
       "HOUR             int64\n",
       "dtype: object"
      ]
     },
     "execution_count": 15,
     "metadata": {},
     "output_type": "execute_result"
    }
   ],
   "source": [
    "train[feature_names].dtypes"
   ]
  },
  {
   "cell_type": "code",
   "execution_count": 16,
   "metadata": {
    "collapsed": false
   },
   "outputs": [
    {
     "data": {
      "text/plain": [
       "array([0, 1, 2, 3, 4, 5, 6, 7])"
      ]
     },
     "execution_count": 16,
     "metadata": {},
     "output_type": "execute_result"
    }
   ],
   "source": [
    "np.arange(len(feature_names))"
   ]
  },
  {
   "cell_type": "code",
   "execution_count": 13,
   "metadata": {
    "collapsed": false
   },
   "outputs": [
    {
     "name": "stderr",
     "output_type": "stream",
     "text": [
      "/anaconda/lib/python3.6/importlib/_bootstrap.py:205: RuntimeWarning: compiletime version 3.5 of module '_catboost' does not match runtime version 3.6\n",
      "  return f(*args, **kwds)\n"
     ]
    },
    {
     "name": "stdout",
     "output_type": "stream",
     "text": [
      "Borders generated\n",
      "0:\tlearn 234.3637751passed: 0.0829 sec\ttotal: 257ms\tremaining: 25.4s\n",
      "1:\tlearn 180.7377162passed: 0.0109 sec\ttotal: 269ms\tremaining: 13.2s\n",
      "2:\tlearn 144.1983076passed: 0.0192 sec\ttotal: 289ms\tremaining: 9.34s\n",
      "3:\tlearn 121.98774passed: 0.0282 sec\ttotal: 318ms\tremaining: 7.62s\n",
      "4:\tlearn 109.2031162passed: 0.0263 sec\ttotal: 345ms\tremaining: 6.55s\n",
      "5:\tlearn 101.3440569passed: 0.0306 sec\ttotal: 376ms\tremaining: 5.89s\n",
      "6:\tlearn 96.80332658passed: 0.23 sec\ttotal: 606ms\tremaining: 8.05s\n",
      "7:\tlearn 95.17646401passed: 0.00819 sec\ttotal: 615ms\tremaining: 7.08s\n",
      "8:\tlearn 93.88988232passed: 0.0158 sec\ttotal: 632ms\tremaining: 6.39s\n",
      "9:\tlearn 93.16556578passed: 0.0165 sec\ttotal: 649ms\tremaining: 5.84s\n",
      "10:\tlearn 92.23686721passed: 1.65 sec\ttotal: 2.3s\tremaining: 18.6s\n",
      "11:\tlearn 91.80839033passed: 0.0296 sec\ttotal: 2.33s\tremaining: 17.1s\n",
      "12:\tlearn 91.1897005passed: 1.55 sec\ttotal: 3.88s\tremaining: 26s\n",
      "13:\tlearn 90.85163599passed: 0.184 sec\ttotal: 4.07s\tremaining: 25s\n",
      "14:\tlearn 90.61063367passed: 0.192 sec\ttotal: 4.26s\tremaining: 24.1s\n",
      "15:\tlearn 90.51101136passed: 0.0255 sec\ttotal: 4.28s\tremaining: 22.5s\n",
      "16:\tlearn 90.44079703passed: 0.021 sec\ttotal: 4.3s\tremaining: 21s\n",
      "17:\tlearn 90.34794705passed: 0.0198 sec\ttotal: 4.33s\tremaining: 19.7s\n",
      "18:\tlearn 90.06288401passed: 0.19 sec\ttotal: 4.52s\tremaining: 19.3s\n",
      "19:\tlearn 90.05171668passed: 0.0108 sec\ttotal: 4.53s\tremaining: 18.1s\n",
      "20:\tlearn 89.83534055passed: 0.176 sec\ttotal: 4.7s\tremaining: 17.7s\n",
      "21:\tlearn 89.79085363passed: 0.0165 sec\ttotal: 4.72s\tremaining: 16.7s\n",
      "22:\tlearn 89.77442048passed: 0.0201 sec\ttotal: 4.74s\tremaining: 15.9s\n",
      "23:\tlearn 89.70425568passed: 0.726 sec\ttotal: 5.47s\tremaining: 17.3s\n",
      "24:\tlearn 89.63560928passed: 0.0327 sec\ttotal: 5.5s\tremaining: 16.5s\n",
      "25:\tlearn 89.62952448passed: 0.00944 sec\ttotal: 5.51s\tremaining: 15.7s\n",
      "26:\tlearn 89.4012547passed: 0.106 sec\ttotal: 5.62s\tremaining: 15.2s\n",
      "27:\tlearn 89.28989171passed: 1.54 sec\ttotal: 7.16s\tremaining: 18.4s\n",
      "28:\tlearn 89.28005094passed: 0.0276 sec\ttotal: 7.19s\tremaining: 17.6s\n",
      "29:\tlearn 89.25540807passed: 1.01 sec\ttotal: 8.2s\tremaining: 19.1s\n",
      "30:\tlearn 89.25005001passed: 0.00911 sec\ttotal: 8.21s\tremaining: 18.3s\n",
      "31:\tlearn 89.08519872passed: 0.173 sec\ttotal: 8.38s\tremaining: 17.8s\n",
      "32:\tlearn 88.87319941passed: 4.5 sec\ttotal: 12.9s\tremaining: 26.2s\n",
      "33:\tlearn 88.85529884passed: 0.0406 sec\ttotal: 12.9s\tremaining: 25.1s\n",
      "34:\tlearn 88.72472122passed: 0.177 sec\ttotal: 13.1s\tremaining: 24.3s\n",
      "35:\tlearn 88.65109785passed: 0.0405 sec\ttotal: 13.1s\tremaining: 23.4s\n",
      "36:\tlearn 88.37330323passed: 4.46 sec\ttotal: 17.6s\tremaining: 30s\n",
      "37:\tlearn 88.00009886passed: 3.82 sec\ttotal: 21.4s\tremaining: 34.9s\n",
      "38:\tlearn 87.74991347passed: 3.69 sec\ttotal: 25.1s\tremaining: 39.3s\n",
      "39:\tlearn 87.42237792passed: 3.83 sec\ttotal: 28.9s\tremaining: 43.4s\n",
      "40:\tlearn 87.21123951passed: 3.95 sec\ttotal: 32.9s\tremaining: 47.3s\n",
      "41:\tlearn 86.91925486passed: 4.01 sec\ttotal: 36.9s\tremaining: 51s\n",
      "42:\tlearn 86.81439152passed: 4.11 sec\ttotal: 41s\tremaining: 54.4s\n",
      "43:\tlearn 86.64202353passed: 4.02 sec\ttotal: 45s\tremaining: 57.3s\n",
      "44:\tlearn 86.29226926passed: 4.11 sec\ttotal: 49.2s\tremaining: 1m\n",
      "45:\tlearn 86.09168064passed: 4.43 sec\ttotal: 53.6s\tremaining: 1m 2s\n",
      "46:\tlearn 85.75854688passed: 4.62 sec\ttotal: 58.2s\tremaining: 1m 5s\n",
      "47:\tlearn 85.58397296passed: 4.69 sec\ttotal: 1m 2s\tremaining: 1m 8s\n",
      "48:\tlearn 85.34071197passed: 4.72 sec\ttotal: 1m 7s\tremaining: 1m 10s\n",
      "49:\tlearn 85.08585212passed: 4.17 sec\ttotal: 1m 11s\tremaining: 1m 11s\n",
      "50:\tlearn 84.96715754passed: 4.48 sec\ttotal: 1m 16s\tremaining: 1m 13s\n",
      "51:\tlearn 84.67148005passed: 4.25 sec\ttotal: 1m 20s\tremaining: 1m 14s\n",
      "52:\tlearn 84.48076531passed: 4.35 sec\ttotal: 1m 24s\tremaining: 1m 15s\n",
      "53:\tlearn 84.31348096passed: 4.62 sec\ttotal: 1m 29s\tremaining: 1m 16s\n",
      "54:\tlearn 84.08840879passed: 4.63 sec\ttotal: 1m 34s\tremaining: 1m 17s\n",
      "55:\tlearn 83.9214651passed: 5 sec\ttotal: 1m 40s\tremaining: 1m 18s\n",
      "56:\tlearn 83.808296passed: 4.25 sec\ttotal: 1m 44s\tremaining: 1m 18s\n",
      "57:\tlearn 83.48884401passed: 4.26 sec\ttotal: 1m 48s\tremaining: 1m 18s\n",
      "58:\tlearn 83.32654057passed: 3.91 sec\ttotal: 1m 52s\tremaining: 1m 18s\n",
      "59:\tlearn 83.13709088passed: 3.92 sec\ttotal: 1m 56s\tremaining: 1m 17s\n",
      "60:\tlearn 83.02214333passed: 3.91 sec\ttotal: 2m\tremaining: 1m 16s\n",
      "61:\tlearn 82.79056616passed: 4.01 sec\ttotal: 2m 4s\tremaining: 1m 16s\n",
      "62:\tlearn 82.66076631passed: 3.84 sec\ttotal: 2m 8s\tremaining: 1m 15s\n",
      "63:\tlearn 82.39559324passed: 3.83 sec\ttotal: 2m 12s\tremaining: 1m 14s\n",
      "64:\tlearn 82.27106227passed: 3.79 sec\ttotal: 2m 15s\tremaining: 1m 13s\n",
      "65:\tlearn 81.90892552passed: 3.93 sec\ttotal: 2m 19s\tremaining: 1m 11s\n",
      "66:\tlearn 81.78304333passed: 4.19 sec\ttotal: 2m 23s\tremaining: 1m 10s\n",
      "67:\tlearn 81.63566904passed: 3.8 sec\ttotal: 2m 27s\tremaining: 1m 9s\n",
      "68:\tlearn 81.48461414passed: 3.84 sec\ttotal: 2m 31s\tremaining: 1m 8s\n",
      "69:\tlearn 81.31803815passed: 3.87 sec\ttotal: 2m 35s\tremaining: 1m 6s\n",
      "70:\tlearn 80.98283668passed: 3.75 sec\ttotal: 2m 39s\tremaining: 1m 5s\n",
      "71:\tlearn 80.74166771passed: 3.74 sec\ttotal: 2m 42s\tremaining: 1m 3s\n",
      "72:\tlearn 80.56366461passed: 3.89 sec\ttotal: 2m 46s\tremaining: 1m 1s\n",
      "73:\tlearn 80.42103875passed: 3.68 sec\ttotal: 2m 50s\tremaining: 59.9s\n",
      "74:\tlearn 80.29101726passed: 3.67 sec\ttotal: 2m 54s\tremaining: 58.1s\n",
      "75:\tlearn 80.11096849passed: 3.72 sec\ttotal: 2m 57s\tremaining: 56.2s\n",
      "76:\tlearn 79.93176193passed: 3.91 sec\ttotal: 3m 1s\tremaining: 54.3s\n",
      "77:\tlearn 79.74238498passed: 3.96 sec\ttotal: 3m 5s\tremaining: 52.4s\n",
      "78:\tlearn 79.49717919passed: 4.34 sec\ttotal: 3m 10s\tremaining: 50.5s\n",
      "79:\tlearn 79.35592721passed: 3.68 sec\ttotal: 3m 13s\tremaining: 48.4s\n",
      "80:\tlearn 79.04874925passed: 3.92 sec\ttotal: 3m 17s\tremaining: 46.4s\n",
      "81:\tlearn 78.86975827passed: 3.82 sec\ttotal: 3m 21s\tremaining: 44.2s\n",
      "82:\tlearn 78.73038313passed: 3.8 sec\ttotal: 3m 25s\tremaining: 42.1s\n",
      "83:\tlearn 78.59962675passed: 3.8 sec\ttotal: 3m 29s\tremaining: 39.8s\n",
      "84:\tlearn 78.43280309passed: 3.77 sec\ttotal: 3m 32s\tremaining: 37.6s\n",
      "85:\tlearn 78.3317266passed: 3.67 sec\ttotal: 3m 36s\tremaining: 35.3s\n",
      "86:\tlearn 78.16289389passed: 3.76 sec\ttotal: 3m 40s\tremaining: 32.9s\n",
      "87:\tlearn 77.90921097passed: 3.51 sec\ttotal: 3m 43s\tremaining: 30.5s\n",
      "88:\tlearn 77.82033359passed: 3.62 sec\ttotal: 3m 47s\tremaining: 28.1s\n",
      "89:\tlearn 77.60420604passed: 3.56 sec\ttotal: 3m 51s\tremaining: 25.7s\n",
      "90:\tlearn 77.42506408passed: 3.48 sec\ttotal: 3m 54s\tremaining: 23.2s\n",
      "91:\tlearn 77.23982653passed: 3.65 sec\ttotal: 3m 58s\tremaining: 20.7s\n",
      "92:\tlearn 77.0054868passed: 3.63 sec\ttotal: 4m 1s\tremaining: 18.2s\n",
      "93:\tlearn 76.91266704passed: 3.58 sec\ttotal: 4m 5s\tremaining: 15.7s\n",
      "94:\tlearn 76.80929114passed: 3.83 sec\ttotal: 4m 9s\tremaining: 13.1s\n",
      "95:\tlearn 76.73867032passed: 3.88 sec\ttotal: 4m 13s\tremaining: 10.5s\n",
      "96:\tlearn 76.64774261passed: 3.87 sec\ttotal: 4m 16s\tremaining: 7.95s\n",
      "97:\tlearn 76.50644604passed: 3.88 sec\ttotal: 4m 20s\tremaining: 5.32s\n",
      "98:\tlearn 76.40522464passed: 3.91 sec\ttotal: 4m 24s\tremaining: 2.67s\n",
      "99:\tlearn 76.2778649passed: 4.91 sec\ttotal: 4m 29s\tremaining: 0us\n"
     ]
    },
    {
     "data": {
      "text/plain": [
       "array([ 213.06299399,  207.7613398 ,  205.0391208 ,  210.86940204,\n",
       "        265.90029014,  252.19321748,  408.90039776,  279.17048392,\n",
       "        260.46591356,  302.22317087])"
      ]
     },
     "execution_count": 13,
     "metadata": {},
     "output_type": "execute_result"
    }
   ],
   "source": [
    "# Current best\n",
    "from catboost import CatBoostRegressor\n",
    "\n",
    "model_catboost = CatBoostRegressor(eval_metric='RMSE',learning_rate=0.3,verbose=True, iterations=800,depth=16)\n",
    "\n",
    "model_catboost.fit(train[feature_names], target, cat_features=[4,5,6,7])\n",
    "\n",
    "pred = model_catboost.predict(test[feature_names])\n",
    "\n",
    "pred[:10]"
   ]
  },
  {
   "cell_type": "code",
   "execution_count": 14,
   "metadata": {
    "collapsed": true
   },
   "outputs": [],
   "source": [
    "## make submission\n",
    "sub = pd.DataFrame()\n",
    "sub['ID'] = test['ID']\n",
    "sub['electricity_consumption'] = pred\n",
    "sub.to_csv('result.csv', index=False)"
   ]
  },
  {
   "cell_type": "code",
   "execution_count": null,
   "metadata": {
    "collapsed": true
   },
   "outputs": [],
   "source": []
  }
 ],
 "metadata": {
  "kernelspec": {
   "display_name": "Python 3",
   "language": "python",
   "name": "python3"
  },
  "language_info": {
   "codemirror_mode": {
    "name": "ipython",
    "version": 3
   },
   "file_extension": ".py",
   "mimetype": "text/x-python",
   "name": "python",
   "nbconvert_exporter": "python",
   "pygments_lexer": "ipython3",
   "version": "3.6.0"
  }
 },
 "nbformat": 4,
 "nbformat_minor": 2
}
